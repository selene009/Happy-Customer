{
 "cells": [
  {
   "cell_type": "code",
   "execution_count": 1,
   "id": "b806b89e",
   "metadata": {},
   "outputs": [],
   "source": [
    "import numpy as np\n",
    "import pandas as pd\n",
    "import matplotlib as mpl\n",
    "import matplotlib.pyplot as plt\n",
    "import squarify\n",
    "import seaborn as sns\n",
    "from scipy.stats import chi2_contingency \n",
    "from sklearn.feature_selection import chi2, SelectKBest\n",
    "# from xgboost import XGBClassifier\n",
    "# from xgboost import plot_importance\n",
    "from sklearn.model_selection import train_test_split\n",
    "from sklearn.model_selection import KFold"
   ]
  },
  {
   "cell_type": "markdown",
   "id": "3d12b89d",
   "metadata": {},
   "source": [
    "# Read the data"
   ]
  },
  {
   "cell_type": "code",
   "execution_count": 2,
   "id": "012d5b6f",
   "metadata": {},
   "outputs": [],
   "source": [
    "data = pd.read_csv('C:\\\\Users\\\\Administrator\\\\Desktop\\\\Apziva\\\\Project\\\\Happy Customers\\\\ACME-HappinessSurvey2020.csv')"
   ]
  },
  {
   "cell_type": "markdown",
   "id": "e368e229",
   "metadata": {},
   "source": [
    "# Data Exploration"
   ]
  },
  {
   "cell_type": "code",
   "execution_count": 3,
   "id": "b78513f7",
   "metadata": {},
   "outputs": [
    {
     "data": {
      "text/html": [
       "<div>\n",
       "<style scoped>\n",
       "    .dataframe tbody tr th:only-of-type {\n",
       "        vertical-align: middle;\n",
       "    }\n",
       "\n",
       "    .dataframe tbody tr th {\n",
       "        vertical-align: top;\n",
       "    }\n",
       "\n",
       "    .dataframe thead th {\n",
       "        text-align: right;\n",
       "    }\n",
       "</style>\n",
       "<table border=\"1\" class=\"dataframe\">\n",
       "  <thead>\n",
       "    <tr style=\"text-align: right;\">\n",
       "      <th></th>\n",
       "      <th>Y</th>\n",
       "      <th>X1</th>\n",
       "      <th>X2</th>\n",
       "      <th>X3</th>\n",
       "      <th>X4</th>\n",
       "      <th>X5</th>\n",
       "      <th>X6</th>\n",
       "    </tr>\n",
       "  </thead>\n",
       "  <tbody>\n",
       "    <tr>\n",
       "      <th>0</th>\n",
       "      <td>0</td>\n",
       "      <td>3</td>\n",
       "      <td>3</td>\n",
       "      <td>3</td>\n",
       "      <td>4</td>\n",
       "      <td>2</td>\n",
       "      <td>4</td>\n",
       "    </tr>\n",
       "    <tr>\n",
       "      <th>1</th>\n",
       "      <td>0</td>\n",
       "      <td>3</td>\n",
       "      <td>2</td>\n",
       "      <td>3</td>\n",
       "      <td>5</td>\n",
       "      <td>4</td>\n",
       "      <td>3</td>\n",
       "    </tr>\n",
       "    <tr>\n",
       "      <th>2</th>\n",
       "      <td>1</td>\n",
       "      <td>5</td>\n",
       "      <td>3</td>\n",
       "      <td>3</td>\n",
       "      <td>3</td>\n",
       "      <td>3</td>\n",
       "      <td>5</td>\n",
       "    </tr>\n",
       "    <tr>\n",
       "      <th>3</th>\n",
       "      <td>0</td>\n",
       "      <td>5</td>\n",
       "      <td>4</td>\n",
       "      <td>3</td>\n",
       "      <td>3</td>\n",
       "      <td>3</td>\n",
       "      <td>5</td>\n",
       "    </tr>\n",
       "    <tr>\n",
       "      <th>4</th>\n",
       "      <td>0</td>\n",
       "      <td>5</td>\n",
       "      <td>4</td>\n",
       "      <td>3</td>\n",
       "      <td>3</td>\n",
       "      <td>3</td>\n",
       "      <td>5</td>\n",
       "    </tr>\n",
       "    <tr>\n",
       "      <th>5</th>\n",
       "      <td>1</td>\n",
       "      <td>5</td>\n",
       "      <td>5</td>\n",
       "      <td>3</td>\n",
       "      <td>5</td>\n",
       "      <td>5</td>\n",
       "      <td>5</td>\n",
       "    </tr>\n",
       "    <tr>\n",
       "      <th>6</th>\n",
       "      <td>0</td>\n",
       "      <td>3</td>\n",
       "      <td>1</td>\n",
       "      <td>2</td>\n",
       "      <td>2</td>\n",
       "      <td>1</td>\n",
       "      <td>3</td>\n",
       "    </tr>\n",
       "    <tr>\n",
       "      <th>7</th>\n",
       "      <td>1</td>\n",
       "      <td>5</td>\n",
       "      <td>4</td>\n",
       "      <td>4</td>\n",
       "      <td>4</td>\n",
       "      <td>4</td>\n",
       "      <td>5</td>\n",
       "    </tr>\n",
       "    <tr>\n",
       "      <th>8</th>\n",
       "      <td>0</td>\n",
       "      <td>4</td>\n",
       "      <td>1</td>\n",
       "      <td>4</td>\n",
       "      <td>4</td>\n",
       "      <td>4</td>\n",
       "      <td>4</td>\n",
       "    </tr>\n",
       "    <tr>\n",
       "      <th>9</th>\n",
       "      <td>0</td>\n",
       "      <td>4</td>\n",
       "      <td>4</td>\n",
       "      <td>4</td>\n",
       "      <td>2</td>\n",
       "      <td>5</td>\n",
       "      <td>5</td>\n",
       "    </tr>\n",
       "  </tbody>\n",
       "</table>\n",
       "</div>"
      ],
      "text/plain": [
       "   Y  X1  X2  X3  X4  X5  X6\n",
       "0  0   3   3   3   4   2   4\n",
       "1  0   3   2   3   5   4   3\n",
       "2  1   5   3   3   3   3   5\n",
       "3  0   5   4   3   3   3   5\n",
       "4  0   5   4   3   3   3   5\n",
       "5  1   5   5   3   5   5   5\n",
       "6  0   3   1   2   2   1   3\n",
       "7  1   5   4   4   4   4   5\n",
       "8  0   4   1   4   4   4   4\n",
       "9  0   4   4   4   2   5   5"
      ]
     },
     "execution_count": 3,
     "metadata": {},
     "output_type": "execute_result"
    }
   ],
   "source": [
    "data.head(10)"
   ]
  },
  {
   "cell_type": "code",
   "execution_count": 5,
   "id": "8244633a",
   "metadata": {},
   "outputs": [
    {
     "data": {
      "text/html": [
       "<div>\n",
       "<style scoped>\n",
       "    .dataframe tbody tr th:only-of-type {\n",
       "        vertical-align: middle;\n",
       "    }\n",
       "\n",
       "    .dataframe tbody tr th {\n",
       "        vertical-align: top;\n",
       "    }\n",
       "\n",
       "    .dataframe thead th {\n",
       "        text-align: right;\n",
       "    }\n",
       "</style>\n",
       "<table border=\"1\" class=\"dataframe\">\n",
       "  <thead>\n",
       "    <tr style=\"text-align: right;\">\n",
       "      <th></th>\n",
       "      <th>Y</th>\n",
       "      <th>X1</th>\n",
       "      <th>X2</th>\n",
       "      <th>X3</th>\n",
       "      <th>X4</th>\n",
       "      <th>X5</th>\n",
       "      <th>X6</th>\n",
       "    </tr>\n",
       "  </thead>\n",
       "  <tbody>\n",
       "    <tr>\n",
       "      <th>count</th>\n",
       "      <td>126.000000</td>\n",
       "      <td>126.000000</td>\n",
       "      <td>126.000000</td>\n",
       "      <td>126.000000</td>\n",
       "      <td>126.000000</td>\n",
       "      <td>126.000000</td>\n",
       "      <td>126.000000</td>\n",
       "    </tr>\n",
       "    <tr>\n",
       "      <th>mean</th>\n",
       "      <td>0.547619</td>\n",
       "      <td>4.333333</td>\n",
       "      <td>2.531746</td>\n",
       "      <td>3.309524</td>\n",
       "      <td>3.746032</td>\n",
       "      <td>3.650794</td>\n",
       "      <td>4.253968</td>\n",
       "    </tr>\n",
       "    <tr>\n",
       "      <th>std</th>\n",
       "      <td>0.499714</td>\n",
       "      <td>0.800000</td>\n",
       "      <td>1.114892</td>\n",
       "      <td>1.023440</td>\n",
       "      <td>0.875776</td>\n",
       "      <td>1.147641</td>\n",
       "      <td>0.809311</td>\n",
       "    </tr>\n",
       "    <tr>\n",
       "      <th>min</th>\n",
       "      <td>0.000000</td>\n",
       "      <td>1.000000</td>\n",
       "      <td>1.000000</td>\n",
       "      <td>1.000000</td>\n",
       "      <td>1.000000</td>\n",
       "      <td>1.000000</td>\n",
       "      <td>1.000000</td>\n",
       "    </tr>\n",
       "    <tr>\n",
       "      <th>25%</th>\n",
       "      <td>0.000000</td>\n",
       "      <td>4.000000</td>\n",
       "      <td>2.000000</td>\n",
       "      <td>3.000000</td>\n",
       "      <td>3.000000</td>\n",
       "      <td>3.000000</td>\n",
       "      <td>4.000000</td>\n",
       "    </tr>\n",
       "    <tr>\n",
       "      <th>50%</th>\n",
       "      <td>1.000000</td>\n",
       "      <td>5.000000</td>\n",
       "      <td>3.000000</td>\n",
       "      <td>3.000000</td>\n",
       "      <td>4.000000</td>\n",
       "      <td>4.000000</td>\n",
       "      <td>4.000000</td>\n",
       "    </tr>\n",
       "    <tr>\n",
       "      <th>75%</th>\n",
       "      <td>1.000000</td>\n",
       "      <td>5.000000</td>\n",
       "      <td>3.000000</td>\n",
       "      <td>4.000000</td>\n",
       "      <td>4.000000</td>\n",
       "      <td>4.000000</td>\n",
       "      <td>5.000000</td>\n",
       "    </tr>\n",
       "    <tr>\n",
       "      <th>max</th>\n",
       "      <td>1.000000</td>\n",
       "      <td>5.000000</td>\n",
       "      <td>5.000000</td>\n",
       "      <td>5.000000</td>\n",
       "      <td>5.000000</td>\n",
       "      <td>5.000000</td>\n",
       "      <td>5.000000</td>\n",
       "    </tr>\n",
       "  </tbody>\n",
       "</table>\n",
       "</div>"
      ],
      "text/plain": [
       "                Y          X1          X2          X3          X4          X5  \\\n",
       "count  126.000000  126.000000  126.000000  126.000000  126.000000  126.000000   \n",
       "mean     0.547619    4.333333    2.531746    3.309524    3.746032    3.650794   \n",
       "std      0.499714    0.800000    1.114892    1.023440    0.875776    1.147641   \n",
       "min      0.000000    1.000000    1.000000    1.000000    1.000000    1.000000   \n",
       "25%      0.000000    4.000000    2.000000    3.000000    3.000000    3.000000   \n",
       "50%      1.000000    5.000000    3.000000    3.000000    4.000000    4.000000   \n",
       "75%      1.000000    5.000000    3.000000    4.000000    4.000000    4.000000   \n",
       "max      1.000000    5.000000    5.000000    5.000000    5.000000    5.000000   \n",
       "\n",
       "               X6  \n",
       "count  126.000000  \n",
       "mean     4.253968  \n",
       "std      0.809311  \n",
       "min      1.000000  \n",
       "25%      4.000000  \n",
       "50%      4.000000  \n",
       "75%      5.000000  \n",
       "max      5.000000  "
      ]
     },
     "execution_count": 5,
     "metadata": {},
     "output_type": "execute_result"
    }
   ],
   "source": [
    "data.describe()"
   ]
  },
  {
   "cell_type": "raw",
   "id": "36be38e2",
   "metadata": {},
   "source": [
    "The data description shows every column statistic summary"
   ]
  },
  {
   "cell_type": "code",
   "execution_count": 6,
   "id": "a606b70c",
   "metadata": {},
   "outputs": [
    {
     "data": {
      "text/plain": [
       "(126, 7)"
      ]
     },
     "execution_count": 6,
     "metadata": {},
     "output_type": "execute_result"
    }
   ],
   "source": [
    "data.shape"
   ]
  },
  {
   "cell_type": "markdown",
   "id": "747daa39",
   "metadata": {},
   "source": [
    "### As the column is nosence, I assign every column the name"
   ]
  },
  {
   "cell_type": "code",
   "execution_count": 8,
   "id": "30bffb66",
   "metadata": {},
   "outputs": [
    {
     "data": {
      "text/html": [
       "<div>\n",
       "<style scoped>\n",
       "    .dataframe tbody tr th:only-of-type {\n",
       "        vertical-align: middle;\n",
       "    }\n",
       "\n",
       "    .dataframe tbody tr th {\n",
       "        vertical-align: top;\n",
       "    }\n",
       "\n",
       "    .dataframe thead th {\n",
       "        text-align: right;\n",
       "    }\n",
       "</style>\n",
       "<table border=\"1\" class=\"dataframe\">\n",
       "  <thead>\n",
       "    <tr style=\"text-align: right;\">\n",
       "      <th></th>\n",
       "      <th>Happy or Unhappy</th>\n",
       "      <th>on time</th>\n",
       "      <th>expected</th>\n",
       "      <th>ordered everything</th>\n",
       "      <th>paid a good price</th>\n",
       "      <th>satisfied</th>\n",
       "      <th>app easy</th>\n",
       "    </tr>\n",
       "  </thead>\n",
       "  <tbody>\n",
       "    <tr>\n",
       "      <th>0</th>\n",
       "      <td>0</td>\n",
       "      <td>3</td>\n",
       "      <td>3</td>\n",
       "      <td>3</td>\n",
       "      <td>4</td>\n",
       "      <td>2</td>\n",
       "      <td>4</td>\n",
       "    </tr>\n",
       "    <tr>\n",
       "      <th>1</th>\n",
       "      <td>0</td>\n",
       "      <td>3</td>\n",
       "      <td>2</td>\n",
       "      <td>3</td>\n",
       "      <td>5</td>\n",
       "      <td>4</td>\n",
       "      <td>3</td>\n",
       "    </tr>\n",
       "    <tr>\n",
       "      <th>2</th>\n",
       "      <td>1</td>\n",
       "      <td>5</td>\n",
       "      <td>3</td>\n",
       "      <td>3</td>\n",
       "      <td>3</td>\n",
       "      <td>3</td>\n",
       "      <td>5</td>\n",
       "    </tr>\n",
       "    <tr>\n",
       "      <th>3</th>\n",
       "      <td>0</td>\n",
       "      <td>5</td>\n",
       "      <td>4</td>\n",
       "      <td>3</td>\n",
       "      <td>3</td>\n",
       "      <td>3</td>\n",
       "      <td>5</td>\n",
       "    </tr>\n",
       "    <tr>\n",
       "      <th>4</th>\n",
       "      <td>0</td>\n",
       "      <td>5</td>\n",
       "      <td>4</td>\n",
       "      <td>3</td>\n",
       "      <td>3</td>\n",
       "      <td>3</td>\n",
       "      <td>5</td>\n",
       "    </tr>\n",
       "  </tbody>\n",
       "</table>\n",
       "</div>"
      ],
      "text/plain": [
       "   Happy or Unhappy  on time  expected  ordered everything  paid a good price  \\\n",
       "0                 0        3         3                   3                  4   \n",
       "1                 0        3         2                   3                  5   \n",
       "2                 1        5         3                   3                  3   \n",
       "3                 0        5         4                   3                  3   \n",
       "4                 0        5         4                   3                  3   \n",
       "\n",
       "   satisfied  app easy  \n",
       "0          2         4  \n",
       "1          4         3  \n",
       "2          3         5  \n",
       "3          3         5  \n",
       "4          3         5  "
      ]
     },
     "execution_count": 8,
     "metadata": {},
     "output_type": "execute_result"
    }
   ],
   "source": [
    "# rename the colunms\n",
    "data.columns = ['Happy or Unhappy','on time','expected','ordered everything','paid a good price','satisfied','app easy']\n",
    "data.head(5)"
   ]
  },
  {
   "cell_type": "code",
   "execution_count": 9,
   "id": "8bb085bd",
   "metadata": {
    "scrolled": true
   },
   "outputs": [
    {
     "data": {
      "text/plain": [
       "Happy or Unhappy      0\n",
       "on time               0\n",
       "expected              0\n",
       "ordered everything    0\n",
       "paid a good price     0\n",
       "satisfied             0\n",
       "app easy              0\n",
       "dtype: int64"
      ]
     },
     "execution_count": 9,
     "metadata": {},
     "output_type": "execute_result"
    }
   ],
   "source": [
    "# check missing value\n",
    "data.isnull().sum()"
   ]
  },
  {
   "cell_type": "raw",
   "id": "08777733",
   "metadata": {},
   "source": [
    "After checking the data, there is no missing data "
   ]
  },
  {
   "cell_type": "code",
   "execution_count": 438,
   "id": "cf01031a",
   "metadata": {},
   "outputs": [
    {
     "data": {
      "text/plain": [
       "5    65\n",
       "4    40\n",
       "3    20\n",
       "1     1\n",
       "Name: on time, dtype: int64"
      ]
     },
     "execution_count": 438,
     "metadata": {},
     "output_type": "execute_result"
    }
   ],
   "source": [
    "# every columns categorial statistic\n",
    "data['on time'].value_counts()"
   ]
  },
  {
   "cell_type": "code",
   "execution_count": 439,
   "id": "7638cade",
   "metadata": {},
   "outputs": [
    {
     "data": {
      "text/plain": [
       "3    42\n",
       "2    34\n",
       "1    27\n",
       "4    17\n",
       "5     6\n",
       "Name: expected, dtype: int64"
      ]
     },
     "execution_count": 439,
     "metadata": {},
     "output_type": "execute_result"
    }
   ],
   "source": [
    "data['expected'].value_counts()"
   ]
  },
  {
   "cell_type": "code",
   "execution_count": 440,
   "id": "c3f976db",
   "metadata": {},
   "outputs": [
    {
     "data": {
      "text/plain": [
       "3    55\n",
       "4    33\n",
       "5    17\n",
       "2    14\n",
       "1     7\n",
       "Name: ordered everything, dtype: int64"
      ]
     },
     "execution_count": 440,
     "metadata": {},
     "output_type": "execute_result"
    }
   ],
   "source": [
    "data['ordered everything'].value_counts()"
   ]
  },
  {
   "cell_type": "code",
   "execution_count": 441,
   "id": "cff97d7d",
   "metadata": {},
   "outputs": [
    {
     "data": {
      "text/plain": [
       "4    53\n",
       "3    41\n",
       "5    25\n",
       "2     5\n",
       "1     2\n",
       "Name: paid a good price, dtype: int64"
      ]
     },
     "execution_count": 441,
     "metadata": {},
     "output_type": "execute_result"
    }
   ],
   "source": [
    "data['paid a good price'].value_counts()"
   ]
  },
  {
   "cell_type": "code",
   "execution_count": 442,
   "id": "d8669918",
   "metadata": {},
   "outputs": [
    {
     "data": {
      "text/plain": [
       "4    50\n",
       "5    31\n",
       "3    22\n",
       "2    16\n",
       "1     7\n",
       "Name: satisfied, dtype: int64"
      ]
     },
     "execution_count": 442,
     "metadata": {},
     "output_type": "execute_result"
    }
   ],
   "source": [
    "data['satisfied'].value_counts()"
   ]
  },
  {
   "cell_type": "code",
   "execution_count": 443,
   "id": "9c12e7ce",
   "metadata": {
    "scrolled": true
   },
   "outputs": [
    {
     "data": {
      "text/plain": [
       "5    57\n",
       "4    47\n",
       "3    20\n",
       "2     1\n",
       "1     1\n",
       "Name: app easy, dtype: int64"
      ]
     },
     "execution_count": 443,
     "metadata": {},
     "output_type": "execute_result"
    }
   ],
   "source": [
    "data['app easy'].value_counts()"
   ]
  },
  {
   "cell_type": "markdown",
   "id": "744ae062",
   "metadata": {},
   "source": [
    "### Let me do the statistic of each column has the number of different category "
   ]
  },
  {
   "cell_type": "markdown",
   "id": "92b1bf4c",
   "metadata": {},
   "source": [
    "# Data visualization"
   ]
  },
  {
   "cell_type": "code",
   "execution_count": 16,
   "id": "892307cd",
   "metadata": {},
   "outputs": [
    {
     "data": {
      "image/png": "[encoded data removed]",
      "text/plain": [
       "<Figure size 432x288 with 1 Axes>"
      ]
     },
     "metadata": {
      "needs_background": "light"
     },
     "output_type": "display_data"
    }
   ],
   "source": [
    "# check data balanced\n",
    "plt.figure()\n",
    "pd.Series(data['Happy or Unhappy']).value_counts().sort_index().plot(kind = 'bar')\n",
    "plt.ylabel(\"Count\")\n",
    "plt.xlabel(\"class\")\n",
    "plt.title('Number of happy or unhappy customers (0=unhappy, 1=happy )');"
   ]
  },
  {
   "cell_type": "markdown",
   "id": "8ecff89a",
   "metadata": {},
   "source": [
    "### The data has the almost balanced data as the 0 class is a littler small than 1 class"
   ]
  },
  {
   "cell_type": "code",
   "execution_count": 17,
   "id": "832fa1a1",
   "metadata": {},
   "outputs": [
    {
     "name": "stdout",
     "output_type": "stream",
     "text": [
      "['on time', 'expected', 'ordered everything', 'paid a good price', 'satisfied', 'app easy'] 6\n"
     ]
    }
   ],
   "source": [
    "# Features analysis\n",
    "features = data.columns[1:].tolist()\n",
    "print(features, len(features))"
   ]
  },
  {
   "cell_type": "code",
   "execution_count": 18,
   "id": "adfb14f8",
   "metadata": {},
   "outputs": [],
   "source": [
    "def hide_spines(ax, spines=[\"top\", \"right\", \"left\", \"bottom\"]):\n",
    "    for spine in spines:\n",
    "        ax.spines[spine].set_visible(False)"
   ]
  },
  {
   "cell_type": "code",
   "execution_count": 19,
   "id": "672b051b",
   "metadata": {},
   "outputs": [
    {
     "name": "stderr",
     "output_type": "stream",
     "text": [
      "C:\\Users\\Administrator\\AppData\\Local\\Temp\\ipykernel_12620\\2659944197.py:26: UserWarning: Matplotlib is currently using module://matplotlib_inline.backend_inline, which is a non-GUI backend, so cannot show the figure.\n",
      "  fig.show()\n"
     ]
    },
    {
     "data": {
      "image/png": "[encoded data removed]",
      "text/plain": [
       "<Figure size 1080x1800 with 6 Axes>"
      ]
     },
     "metadata": {},
     "output_type": "display_data"
    }
   ],
   "source": [
    "rows = 8\n",
    "cols = 3\n",
    "magma_palette = sns.color_palette(\"magma\")\n",
    "fig = plt.figure(figsize=(15, 25))\n",
    "fig.set_facecolor(\"#fff\")\n",
    "for idx, feature in enumerate(features):\n",
    "    ax = fig.add_subplot(rows, cols, idx+1)\n",
    "    ax.set_facecolor(\"#fff\")\n",
    "    ax.grid(axis=\"y\", linewidth=1, color=\"lightgrey\", linestyle=\"--\", zorder=0)\n",
    "    sns.countplot(x=feature, palette=magma_palette, data=data, ec=\"#000\", alpha=1, linewidth=1.5, zorder=2)\n",
    "    ax.xaxis.set_tick_params(size=0, labelsize=12, pad=7)\n",
    "    ax.yaxis.set_tick_params(size=0, labelsize=10, pad=7)\n",
    "    \n",
    "    if idx % cols == 0:\n",
    "        ax.set_ylabel(\"Count\", fontsize=14, fontfamily=\"serif\", labelpad=7)\n",
    "    else:\n",
    "        ax.set_ylabel(\"\")\n",
    "        \n",
    "    ax.set_xlabel(feature, fontsize=14, fontfamily=\"serif\", labelpad=7)\n",
    "    hide_spines(ax, spines=[\"top\", \"right\", \"left\"])\n",
    "    ax.spines[\"bottom\"].set(linewidth=2)\n",
    "    ax.set_ylim(1)\n",
    "\n",
    "fig.text(x=0.05, y=1.01, s=\"Features Distributions\", fontsize=22, fontweight=\"bold\", fontfamily=\"serif\")\n",
    "fig.tight_layout(w_pad=2, h_pad=1.5)\n",
    "fig.show()"
   ]
  },
  {
   "cell_type": "markdown",
   "id": "8ad59aab",
   "metadata": {},
   "source": [
    "### This graph shows the distribution of all columns in data. "
   ]
  },
  {
   "cell_type": "code",
   "execution_count": 28,
   "id": "0f74fd20",
   "metadata": {},
   "outputs": [
    {
     "data": {
      "image/png": "[encoded data removed]",
      "text/plain": [
       "<Figure size 864x504 with 1 Axes>"
      ]
     },
     "metadata": {
      "needs_background": "light"
     },
     "output_type": "display_data"
    },
    {
     "name": "stdout",
     "output_type": "stream",
     "text": [
      "[45, 16, 8, 0]\n",
      "[20, 24, 12, 1]\n"
     ]
    }
   ],
   "source": [
    "# happy and unhappy customers Based on on time\n",
    "on_time = data['on time'].value_counts()\n",
    "m_height = on_time.values.tolist() #Provides numerical values\n",
    "on_time.axes\n",
    "on_time_labels = on_time.axes[0].tolist()\n",
    "ind = np.arange(4)\n",
    "happy_cc = [] \n",
    "unhappy_cc = []    \n",
    "for on_time in on_time_labels:\n",
    "    size = len(data[data['on time'] == on_time].index)\n",
    "    happy = len(data[(data['on time'] == on_time) & (data['Happy or Unhappy'] == 1)].index)\n",
    "    happy_cc.append(happy)\n",
    "    unhappy_cc.append(size-happy)\n",
    "#=====PLOT Preparations and Plotting====#\n",
    "width = 0.40\n",
    "fig, ax = plt.subplots(figsize=(12,7))\n",
    "happy_bars = ax.bar(ind, happy_cc , width, color='#ADFF2F')\n",
    "unhappy_bars = ax.bar(ind+width, unhappy_cc , width, color='#DA70D6')\n",
    "\n",
    "#Add some text for labels, title and axes ticks\n",
    "ax.set_xlabel(\"on time\",fontsize=20)\n",
    "ax.set_ylabel('Quantity',fontsize=20)\n",
    "ax.set_title('happy and unhappy customers Based on on time',fontsize=22)\n",
    "ax.set_xticks(ind + width / 2) #Positioning on the x axis\n",
    "ax.set_xticklabels(('1','3','4','5'),\n",
    "                  fontsize = 12)\n",
    "ax.legend((happy_bars,unhappy_bars),('happy','unhappy'),fontsize=17)\n",
    "plt.show()\n",
    "print(happy_cc)\n",
    "print(unhappy_cc)                    \n"
   ]
  },
  {
   "cell_type": "markdown",
   "id": "fd30f436",
   "metadata": {},
   "source": [
    "### I analysis the data based on 'on time' column. Happy customer lies most on 1 category in 'on time' cloumn and unhappy customer lies most on 3 category. There is no 2 category in this column and with 5 category there has no happy customer. "
   ]
  },
  {
   "cell_type": "code",
   "execution_count": 29,
   "id": "07f6bf75",
   "metadata": {},
   "outputs": [
    {
     "data": {
      "image/png": "[encoded data removed]",
      "text/plain": [
       "<Figure size 864x504 with 1 Axes>"
      ]
     },
     "metadata": {
      "needs_background": "light"
     },
     "output_type": "display_data"
    },
    {
     "name": "stdout",
     "output_type": "stream",
     "text": [
      "[23, 21, 14, 7, 4]\n",
      "[19, 13, 13, 10, 2]\n"
     ]
    }
   ],
   "source": [
    "# happy and unhappy customers Based on expected\n",
    "expected = data['expected'].value_counts()\n",
    "m_height = expected.values.tolist() #Provides numerical values\n",
    "expected.axes\n",
    "expected_labels = expected.axes[0].tolist()\n",
    "ind = np.arange(5)\n",
    "happy_cc = [] #Poisonous color cap list\n",
    "unhappy_cc = []    #Edible color cap list\n",
    "for expected in expected_labels:\n",
    "    size = len(data[data['expected'] == expected].index)\n",
    "    happy = len(data[(data['expected'] == expected) & (data['Happy or Unhappy'] == 1)].index)\n",
    "    happy_cc.append(happy)\n",
    "    unhappy_cc.append(size-happy)\n",
    "#=====PLOT Preparations and Plotting====#\n",
    "width = 0.40\n",
    "fig, ax = plt.subplots(figsize=(12,7))\n",
    "happy_bars = ax.bar(ind, happy_cc , width, color='#ADFF2F')\n",
    "unhappy_bars = ax.bar(ind+width, unhappy_cc , width, color='#DA70D6')\n",
    "\n",
    "#Add some text for labels, title and axes ticks\n",
    "ax.set_xlabel(\"expected \",fontsize=20)\n",
    "ax.set_ylabel('Quantity',fontsize=20)\n",
    "ax.set_title('happy and unhappy customers Based on expected',fontsize=22)\n",
    "ax.set_xticks(ind + width / 2) #Positioning on the x axis\n",
    "ax.set_xticklabels(('1','2','3','4','5'),\n",
    "                  fontsize = 12)\n",
    "ax.legend((happy_bars,unhappy_bars),('happy','unhappy'),fontsize=17)\n",
    "plt.show()\n",
    "print(happy_cc)\n",
    "print(unhappy_cc)     \n",
    "               \n"
   ]
  },
  {
   "cell_type": "markdown",
   "id": "f5fcc1ba",
   "metadata": {},
   "source": [
    "### I analysis the data based on 'expected' column. There is the most happy customer and unhappy customer in 1 category "
   ]
  },
  {
   "cell_type": "code",
   "execution_count": 30,
   "id": "105f9383",
   "metadata": {},
   "outputs": [
    {
     "name": "stdout",
     "output_type": "stream",
     "text": [
      "[55, 33, 17, 14, 7]\n"
     ]
    },
    {
     "data": {
      "image/png": "[encoded data removed]",
      "text/plain": [
       "<Figure size 864x576 with 1 Axes>"
      ]
     },
     "metadata": {},
     "output_type": "display_data"
    }
   ],
   "source": [
    "#Get the ordered everything types and its values for Single Pie chart\n",
    "everythings = data['ordered everything'].value_counts()\n",
    "pop_size = everythings.values.tolist() #Provides numerical values\n",
    "pop_types = everythings.axes[0].tolist() #Converts index labels object to list\n",
    "print(pop_size)\n",
    "# Data to plot\n",
    "pop_labels = '1', '2', '3', '4', '5'\n",
    "colors = ['#F38181','#EAFFD0','#95E1D3','#FCE38A','#9EF4E6']\n",
    "explode = (0, 0.2, 0, 0, 0)  # explode 1st slice\n",
    "fig = plt.figure(figsize=(12,8))\n",
    "# Plot\n",
    "plt.title('ordered everything Type Percentange', fontsize=22)\n",
    "patches, texts, autotexts = plt.pie(pop_size, explode=explode, labels=pop_labels, colors=colors,\n",
    "        autopct='%1.1f%%', shadow=True, startangle=150)\n",
    "for text,autotext in zip(texts,autotexts):\n",
    "    text.set_fontsize(14)\n",
    "    autotext.set_fontsize(14)\n",
    "\n",
    "plt.axis('equal')\n",
    "plt.show()"
   ]
  },
  {
   "cell_type": "markdown",
   "id": "05efbfe7",
   "metadata": {},
   "source": [
    "### This pie graph shows that 'ordered everything' column has the most number in 1 category and in 5 category has the smallest number "
   ]
  },
  {
   "cell_type": "code",
   "execution_count": 31,
   "id": "6525dfa2",
   "metadata": {},
   "outputs": [
    {
     "data": {
      "image/png": "[encoded data removed]",
      "text/plain": [
       "<Figure size 720x360 with 1 Axes>"
      ]
     },
     "metadata": {
      "needs_background": "light"
     },
     "output_type": "display_data"
    }
   ],
   "source": [
    "df_div = pd.melt(data, 'Happy or Unhappy', var_name=\"Characteristics\")\n",
    "fig, ax = plt.subplots(figsize=(10,5))\n",
    "p = sns.violinplot(ax = ax, x=\"Characteristics\", y=\"value\", hue='Happy or Unhappy', split = True, data=df_div, inner = 'quartile', palette = 'Set1')\n",
    "df_no_class = data.drop(['Happy or Unhappy'],axis = 1)\n",
    "p.set_xticklabels(rotation = 90, labels = list(df_no_class.columns));"
   ]
  },
  {
   "cell_type": "markdown",
   "id": "5b154a1a",
   "metadata": {},
   "source": [
    "### The violin plot shows the distribution of classfication"
   ]
  },
  {
   "cell_type": "code",
   "execution_count": 453,
   "id": "5a9fd822",
   "metadata": {},
   "outputs": [
    {
     "data": {
      "image/png": "[encoded data removed]",
      "text/plain": [
       "<Figure size 1008x864 with 2 Axes>"
      ]
     },
     "metadata": {
      "needs_background": "light"
     },
     "output_type": "display_data"
    }
   ],
   "source": [
    "# Variables correlation\n",
    "plt.figure(figsize=(14,12))\n",
    "sns.heatmap(df_no_class.corr(),linewidths=.1,cmap=\"YlGnBu\", annot=True)\n",
    "plt.yticks(rotation=0);"
   ]
  },
  {
   "cell_type": "markdown",
   "id": "301f3cce",
   "metadata": {},
   "source": [
    "### This heat map has shown the correlation with every two columns. Satisfied has the most correlation with cloumn on time and satisfied has the smallest correlation with expected column"
   ]
  },
  {
   "cell_type": "code",
   "execution_count": 32,
   "id": "b4afd527",
   "metadata": {},
   "outputs": [
    {
     "data": {
      "image/png": "[encoded data removed]",
      "text/plain": [
       "<Figure size 144x72 with 1 Axes>"
      ]
     },
     "metadata": {
      "needs_background": "light"
     },
     "output_type": "display_data"
    },
    {
     "data": {
      "image/png": "[encoded data removed]",
      "text/plain": [
       "<Figure size 432x72 with 1 Axes>"
      ]
     },
     "metadata": {
      "needs_background": "light"
     },
     "output_type": "display_data"
    }
   ],
   "source": [
    "colors = [\"#ED3E2F\", \"#85BB65\"]\n",
    "magma = sns.color_palette(\"magma\")\n",
    "sns.palplot(colors)\n",
    "sns.palplot(magma)"
   ]
  },
  {
   "cell_type": "code",
   "execution_count": 33,
   "id": "f1b4705b",
   "metadata": {},
   "outputs": [
    {
     "name": "stderr",
     "output_type": "stream",
     "text": [
      "C:\\Users\\Administrator\\AppData\\Local\\Temp\\ipykernel_12620\\4014450488.py:44: UserWarning: Matplotlib is currently using module://matplotlib_inline.backend_inline, which is a non-GUI backend, so cannot show the figure.\n",
      "  fig.show()\n"
     ]
    },
    {
     "data": {
      "image/png": "[encoded data removed]",
      "text/plain": [
       "<Figure size 1080x1800 with 6 Axes>"
      ]
     },
     "metadata": {},
     "output_type": "display_data"
    }
   ],
   "source": [
    "rows = 8\n",
    "cols = 3\n",
    "magma_palette = sns.color_palette(\"magma\")\n",
    "fig = plt.figure(figsize=(15, 25))\n",
    "fig.set_facecolor(\"#fff\")\n",
    "for idx, feature in enumerate(features):\n",
    "    ax = fig.add_subplot(rows, cols, idx+1)\n",
    "    ax.set_facecolor(\"#fff\")\n",
    "    ax.grid(axis=\"y\", linewidth=1, color=\"lightgrey\", linestyle=\"--\", zorder=0)\n",
    "    sns.countplot(x=feature, palette=colors, hue=\"Happy or Unhappy\", data=data, ec=\"#000\", alpha=1, linewidth=1.5, zorder=2)\n",
    "    \n",
    "    feature_data_0 = data[data[\"Happy or Unhappy\"] == 0][feature].value_counts()\n",
    "    feature_data_1 = data[data['Happy or Unhappy'] == 1][feature].value_counts()\n",
    "    \n",
    "    for idx_0 in feature_data_0.index:\n",
    "        if idx_0 not in feature_data_1.index:\n",
    "            feature_data_1[idx_0] = 0\n",
    "    \n",
    "    for idx_1 in feature_data_1.index:\n",
    "        if idx_1 not in feature_data_0.index:\n",
    "            feature_data_0[idx_1] = 0\n",
    "    \n",
    "    \n",
    "    feature_data_0 = feature_data_0.sort_index()\n",
    "    feature_data_1 = feature_data_1.sort_index()\n",
    "    \n",
    "    crosstable = pd.crosstab(feature_data_0.values, feature_data_1.values)\n",
    "    stat, p_value, dof , _ = chi2_contingency(crosstable)\n",
    "    \n",
    "    if idx % cols == 0:\n",
    "        ax.set_ylabel(\"Count\", fontsize=14, fontfamily=\"serif\", labelpad=7)\n",
    "    else:\n",
    "        ax.set_ylabel(\"\")\n",
    "        \n",
    "    ax.set_xlabel(feature, fontsize=14, fontfamily=\"serif\", labelpad=7)\n",
    "    hide_spines(ax, spines=[\"top\", \"right\", \"left\"])\n",
    "    ax.spines[\"bottom\"].set(linewidth=2)\n",
    "    ax.axvline(x=0, label=f\"chi^2 p_value: {np.round(p_value, 2)}\", visible=False, color=\"#000\")\n",
    "    ax.set_ylim(1)\n",
    "    ax.legend()\n",
    "\n",
    "fig.text(x=0.05, y=1.01, s=\"class - Features Distributions\", fontsize=22, fontweight=\"bold\", fontfamily=\"serif\")\n",
    "fig.tight_layout(w_pad=2, h_pad=1.5)\n",
    "fig.show()\n",
    "    \n",
    "    "
   ]
  },
  {
   "cell_type": "markdown",
   "id": "1fe9cd49",
   "metadata": {},
   "source": [
    "### I apply chi2 test to test the significane of every variance with the label. From the graph, we can see all the p value is smaller than 0.5,which means that H0 hypothesis is rejected, all the feature has the importance with the label.  "
   ]
  },
  {
   "cell_type": "markdown",
   "id": "47f328ed",
   "metadata": {},
   "source": [
    "# Feature selection "
   ]
  },
  {
   "cell_type": "code",
   "execution_count": 35,
   "id": "cbf63bad",
   "metadata": {},
   "outputs": [
    {
     "name": "stdout",
     "output_type": "stream",
     "text": [
      "             features  chi2_statics  p_values\n",
      "0           satisfied      2.273286  0.131621\n",
      "1             on time      1.449041  0.228682\n",
      "2  ordered everything      0.900104  0.342754\n",
      "3            app easy      0.541070  0.461989\n",
      "4   paid a good price      0.106194  0.744520\n",
      "5            expected      0.036161  0.849183\n"
     ]
    }
   ],
   "source": [
    "# chi value\n",
    "chi_statics, p_values = chi2(df_no_class, data['Happy or Unhappy'])\n",
    "chi2_result = pd.DataFrame({'features': df_no_class.columns, 'chi2_statics': chi_statics, 'p_values': p_values})\n",
    "print(chi2_result.sort_values(by='chi2_statics', ascending=False)[['features', 'chi2_statics', 'p_values']].reset_index().drop('index', axis=1))"
   ]
  },
  {
   "cell_type": "raw",
   "id": "314b16a9",
   "metadata": {},
   "source": [
    "I apply chi2 test to test the significane of every variance with the label. We can see  'paid a good price' and 'expected' p value is larger than 0.5,which means that H0 hypothesis is accepted, these two features has independece with label.  "
   ]
  },
  {
   "cell_type": "code",
   "execution_count": 38,
   "id": "05f6e775",
   "metadata": {},
   "outputs": [],
   "source": [
    "#Decision Trees\n",
    "from sklearn.tree import DecisionTreeClassifier, export_graphviz\n",
    "\n",
    "x = df_no_class\n",
    "y = data['Happy or Unhappy']\n",
    "clf = DecisionTreeClassifier()\n",
    "clf = clf.fit(x,y)\n",
    "dot_data = export_graphviz(clf, out_file=None, \n",
    "                         feature_names=x.columns,  \n",
    "                         filled=True, rounded=True,  \n",
    "                         special_characters=True)  \n"
   ]
  },
  {
   "cell_type": "code",
   "execution_count": 39,
   "id": "3fa6b525",
   "metadata": {},
   "outputs": [
    {
     "data": {
      "image/png": "[encoded data removed]",
      "text/plain": [
       "<Figure size 432x288 with 1 Axes>"
      ]
     },
     "metadata": {
      "needs_background": "light"
     },
     "output_type": "display_data"
    }
   ],
   "source": [
    "features_list = x.columns.values\n",
    "feature_importance = clf.feature_importances_\n",
    "sorted_idx = np.argsort(feature_importance)\n",
    "\n",
    "plt.figure(figsize=(6,4))\n",
    "plt.barh(range(len(sorted_idx)), feature_importance[sorted_idx], align='center')\n",
    "plt.yticks(range(len(sorted_idx)), features_list[sorted_idx])\n",
    "plt.xlabel('Importance')\n",
    "plt.title('Feature importances')\n",
    "plt.draw()\n",
    "plt.show()\n",
    "\n"
   ]
  },
  {
   "cell_type": "markdown",
   "id": "0871dc50",
   "metadata": {},
   "source": [
    "### I use Decision Tree to do the feature importance. The Satisfied feature has the most importance anf ordered everthing has the smallest importance"
   ]
  },
  {
   "cell_type": "markdown",
   "id": "68059789",
   "metadata": {},
   "source": [
    "# Model Training"
   ]
  },
  {
   "cell_type": "code",
   "execution_count": 40,
   "id": "6920134f",
   "metadata": {},
   "outputs": [],
   "source": [
    "class CONFIG:\n",
    "    seed = 42\n",
    "    folds = 5"
   ]
  },
  {
   "cell_type": "code",
   "execution_count": 41,
   "id": "2d52167f",
   "metadata": {},
   "outputs": [],
   "source": [
    "#splitting data into training and testing set\n",
    "x_train, x_test, y_train, y_test = train_test_split(x, y, test_size = 0.2, random_state = 0)"
   ]
  },
  {
   "cell_type": "raw",
   "id": "60030fe8",
   "metadata": {},
   "source": [
    "Advantages of Decision tree\n",
    "1.easy to interpret split based on rules and visualized\n",
    "2.No need to prepare data.Missing data ignore,no feature scaling,not sensetive to outliers while another algorithmns requires normaliztion,\n",
    "dummy varibles \n",
    "3.handle both continuous and categorial numbers\n",
    "4.Decision trees provide a clear indication of which fields are most important for prediction or classification\n",
    "\n",
    "Disadvantages of Decision tree\n",
    "1. prone to overfitting\n",
    "2. create bias trees for unbalanced data\n",
    "3. greedy approach can not guarantee best solution,local optimal can not guarantee to return global optimal  \n"
   ]
  },
  {
   "cell_type": "code",
   "execution_count": 42,
   "id": "47544889",
   "metadata": {},
   "outputs": [
    {
     "name": "stdout",
     "output_type": "stream",
     "text": [
      "Fold: [1/5]: confusion matrix:\n",
      " [[15  0]\n",
      " [ 0 11]]\n",
      "Classification Report               precision    recall  f1-score   support\n",
      "\n",
      "           0       1.00      1.00      1.00        15\n",
      "           1       1.00      1.00      1.00        11\n",
      "\n",
      "    accuracy                           1.00        26\n",
      "   macro avg       1.00      1.00      1.00        26\n",
      "weighted avg       1.00      1.00      1.00        26\n",
      "\n",
      "Fold: [2/5]: confusion matrix:\n",
      " [[11  0]\n",
      " [ 0 14]]\n",
      "Classification Report               precision    recall  f1-score   support\n",
      "\n",
      "           0       1.00      1.00      1.00        11\n",
      "           1       1.00      1.00      1.00        14\n",
      "\n",
      "    accuracy                           1.00        25\n",
      "   macro avg       1.00      1.00      1.00        25\n",
      "weighted avg       1.00      1.00      1.00        25\n",
      "\n",
      "Fold: [3/5]: confusion matrix:\n",
      " [[ 9  0]\n",
      " [ 0 16]]\n",
      "Classification Report               precision    recall  f1-score   support\n",
      "\n",
      "           0       1.00      1.00      1.00         9\n",
      "           1       1.00      1.00      1.00        16\n",
      "\n",
      "    accuracy                           1.00        25\n",
      "   macro avg       1.00      1.00      1.00        25\n",
      "weighted avg       1.00      1.00      1.00        25\n",
      "\n",
      "Fold: [4/5]: confusion matrix:\n",
      " [[11  0]\n",
      " [ 0 14]]\n",
      "Classification Report               precision    recall  f1-score   support\n",
      "\n",
      "           0       1.00      1.00      1.00        11\n",
      "           1       1.00      1.00      1.00        14\n",
      "\n",
      "    accuracy                           1.00        25\n",
      "   macro avg       1.00      1.00      1.00        25\n",
      "weighted avg       1.00      1.00      1.00        25\n",
      "\n",
      "Fold: [5/5]: confusion matrix:\n",
      " [[11  0]\n",
      " [ 0 14]]\n",
      "Classification Report               precision    recall  f1-score   support\n",
      "\n",
      "           0       1.00      1.00      1.00        11\n",
      "           1       1.00      1.00      1.00        14\n",
      "\n",
      "    accuracy                           1.00        25\n",
      "   macro avg       1.00      1.00      1.00        25\n",
      "weighted avg       1.00      1.00      1.00        25\n",
      "\n"
     ]
    }
   ],
   "source": [
    "#Decision Trees\n",
    "from sklearn.tree import DecisionTreeClassifier, plot_tree\n",
    "from sklearn.metrics import accuracy_score, precision_score\n",
    "from sklearn.metrics import confusion_matrix,classification_report\n",
    "# Kfold crossvalidation\n",
    "strategy = KFold(n_splits=CONFIG.folds, random_state=CONFIG.seed, shuffle=True)\n",
    "folds = strategy.split(data,y)\n",
    "for fold_idx, (train_indexes, test_indexes) in enumerate(folds):\n",
    "    print(f\"Fold: [{fold_idx+1}/{CONFIG.folds}]\", end=\": \")\n",
    "    train_data, train_labels = data.iloc[train_indexes], y.iloc[train_indexes]\n",
    "    test_data, test_labels = data.iloc[test_indexes], y.iloc[test_indexes]\n",
    "    fold_model = DecisionTreeClassifier().fit(train_data, train_labels)\n",
    "    predictions = fold_model.predict(test_data)\n",
    "    cm = confusion_matrix(test_labels,predictions)\n",
    "    print('confusion matrix:\\n',cm)\n",
    "    print(\"Classification Report\",classification_report(test_labels,predictions))"
   ]
  },
  {
   "cell_type": "raw",
   "id": "936c9f7a",
   "metadata": {},
   "source": [
    "Advantages of SVM\n",
    "1.easy training no local optimal \n",
    "2.Non-linear does not require straight line capture much more conmplex realationship between data without perform difficult transformation\n",
    "3.has regularization parameter to avoid overfitting \n",
    "4.effective in high demensions\n",
    "\n",
    "Disadvantages of svm\n",
    "1. do not directly offer probabilty\n",
    "2. long time training on large data \n",
    "3. choose a good kernel is tricky\n"
   ]
  },
  {
   "cell_type": "code",
   "execution_count": 43,
   "id": "e9f4ce2c",
   "metadata": {},
   "outputs": [
    {
     "name": "stdout",
     "output_type": "stream",
     "text": [
      "Fold: [1/5]: confusion matrix:\n",
      " [[15  0]\n",
      " [ 0 11]]\n",
      "Classification Report               precision    recall  f1-score   support\n",
      "\n",
      "           0       1.00      1.00      1.00        15\n",
      "           1       1.00      1.00      1.00        11\n",
      "\n",
      "    accuracy                           1.00        26\n",
      "   macro avg       1.00      1.00      1.00        26\n",
      "weighted avg       1.00      1.00      1.00        26\n",
      "\n",
      "Fold: [2/5]: confusion matrix:\n",
      " [[11  0]\n",
      " [ 0 14]]\n",
      "Classification Report               precision    recall  f1-score   support\n",
      "\n",
      "           0       1.00      1.00      1.00        11\n",
      "           1       1.00      1.00      1.00        14\n",
      "\n",
      "    accuracy                           1.00        25\n",
      "   macro avg       1.00      1.00      1.00        25\n",
      "weighted avg       1.00      1.00      1.00        25\n",
      "\n",
      "Fold: [3/5]: confusion matrix:\n",
      " [[ 9  0]\n",
      " [ 0 16]]\n",
      "Classification Report               precision    recall  f1-score   support\n",
      "\n",
      "           0       1.00      1.00      1.00         9\n",
      "           1       1.00      1.00      1.00        16\n",
      "\n",
      "    accuracy                           1.00        25\n",
      "   macro avg       1.00      1.00      1.00        25\n",
      "weighted avg       1.00      1.00      1.00        25\n",
      "\n",
      "Fold: [4/5]: confusion matrix:\n",
      " [[11  0]\n",
      " [ 0 14]]\n",
      "Classification Report               precision    recall  f1-score   support\n",
      "\n",
      "           0       1.00      1.00      1.00        11\n",
      "           1       1.00      1.00      1.00        14\n",
      "\n",
      "    accuracy                           1.00        25\n",
      "   macro avg       1.00      1.00      1.00        25\n",
      "weighted avg       1.00      1.00      1.00        25\n",
      "\n",
      "Fold: [5/5]: confusion matrix:\n",
      " [[11  0]\n",
      " [ 0 14]]\n",
      "Classification Report               precision    recall  f1-score   support\n",
      "\n",
      "           0       1.00      1.00      1.00        11\n",
      "           1       1.00      1.00      1.00        14\n",
      "\n",
      "    accuracy                           1.00        25\n",
      "   macro avg       1.00      1.00      1.00        25\n",
      "weighted avg       1.00      1.00      1.00        25\n",
      "\n"
     ]
    }
   ],
   "source": [
    "# SVM(kenel= 'linear')\n",
    "from sklearn.svm import SVC\n",
    "strategy = KFold(n_splits=CONFIG.folds, random_state=CONFIG.seed, shuffle=True)\n",
    "folds = strategy.split(data,y)\n",
    "for fold_idx, (train_indexes,test_indexes) in enumerate(folds):\n",
    "    print(f\"Fold: [{fold_idx+1}/{CONFIG.folds}]\", end=\": \")\n",
    "    train_data, train_labels = data.iloc[train_indexes], y.iloc[train_indexes]\n",
    "    test_data, test_labels = data.iloc[test_indexes], y.iloc[test_indexes]\n",
    "    svc = SVC(kernel = 'linear')\n",
    "    fold_model = svc.fit(train_data, train_labels)\n",
    "    predictions = fold_model.predict(test_data)\n",
    "    cm = confusion_matrix(test_labels,predictions)\n",
    "    print('confusion matrix:\\n',cm)\n",
    "    print(\"Classification Report\",classification_report(test_labels,predictions))\n",
    "    "
   ]
  },
  {
   "cell_type": "code",
   "execution_count": 44,
   "id": "bc61df35",
   "metadata": {},
   "outputs": [
    {
     "name": "stdout",
     "output_type": "stream",
     "text": [
      "Fold: [1/5]: confusion matrix:\n",
      " [[15  0]\n",
      " [ 1 10]]\n",
      "Classification Report               precision    recall  f1-score   support\n",
      "\n",
      "           0       0.94      1.00      0.97        15\n",
      "           1       1.00      0.91      0.95        11\n",
      "\n",
      "    accuracy                           0.96        26\n",
      "   macro avg       0.97      0.95      0.96        26\n",
      "weighted avg       0.96      0.96      0.96        26\n",
      "\n",
      "Fold: [2/5]: confusion matrix:\n",
      " [[11  0]\n",
      " [ 0 14]]\n",
      "Classification Report               precision    recall  f1-score   support\n",
      "\n",
      "           0       1.00      1.00      1.00        11\n",
      "           1       1.00      1.00      1.00        14\n",
      "\n",
      "    accuracy                           1.00        25\n",
      "   macro avg       1.00      1.00      1.00        25\n",
      "weighted avg       1.00      1.00      1.00        25\n",
      "\n",
      "Fold: [3/5]: confusion matrix:\n",
      " [[ 9  0]\n",
      " [ 1 15]]\n",
      "Classification Report               precision    recall  f1-score   support\n",
      "\n",
      "           0       0.90      1.00      0.95         9\n",
      "           1       1.00      0.94      0.97        16\n",
      "\n",
      "    accuracy                           0.96        25\n",
      "   macro avg       0.95      0.97      0.96        25\n",
      "weighted avg       0.96      0.96      0.96        25\n",
      "\n",
      "Fold: [4/5]: confusion matrix:\n",
      " [[11  0]\n",
      " [ 0 14]]\n",
      "Classification Report               precision    recall  f1-score   support\n",
      "\n",
      "           0       1.00      1.00      1.00        11\n",
      "           1       1.00      1.00      1.00        14\n",
      "\n",
      "    accuracy                           1.00        25\n",
      "   macro avg       1.00      1.00      1.00        25\n",
      "weighted avg       1.00      1.00      1.00        25\n",
      "\n",
      "Fold: [5/5]: confusion matrix:\n",
      " [[11  0]\n",
      " [ 0 14]]\n",
      "Classification Report               precision    recall  f1-score   support\n",
      "\n",
      "           0       1.00      1.00      1.00        11\n",
      "           1       1.00      1.00      1.00        14\n",
      "\n",
      "    accuracy                           1.00        25\n",
      "   macro avg       1.00      1.00      1.00        25\n",
      "weighted avg       1.00      1.00      1.00        25\n",
      "\n"
     ]
    }
   ],
   "source": [
    "# SVM(kernel='rbf')\n",
    "strategy = KFold(n_splits=CONFIG.folds, random_state=CONFIG.seed, shuffle=True)\n",
    "folds = strategy.split(data,y)\n",
    "for fold_idx, (train_indexes,test_indexes) in enumerate(folds):\n",
    "    print(f\"Fold: [{fold_idx+1}/{CONFIG.folds}]\", end=\": \")\n",
    "    train_data, train_labels = data.iloc[train_indexes], y.iloc[train_indexes]\n",
    "    test_data, test_labels = data.iloc[test_indexes], y.iloc[test_indexes]\n",
    "    svc = SVC(kernel = 'rbf')\n",
    "    fold_model = svc.fit(train_data, train_labels)\n",
    "    predictions = fold_model.predict(test_data)\n",
    "    cm = confusion_matrix(test_labels,predictions)\n",
    "    print('confusion matrix:\\n',cm)\n",
    "    print(\"Classification Report\",classification_report(test_labels,predictions))\n",
    "    "
   ]
  },
  {
   "cell_type": "raw",
   "id": "69e4c210",
   "metadata": {},
   "source": [
    "Advantages of Random Forest \n",
    "1.not easy to overfit\n",
    "2.grow in parallel\n",
    "3.high classification acurracy\n",
    "4.no need data preparation\n",
    "\n",
    "Disadvantages of Random Forest \n",
    "1. large data can slow down \n"
   ]
  },
  {
   "cell_type": "code",
   "execution_count": 45,
   "id": "f5522d37",
   "metadata": {},
   "outputs": [
    {
     "name": "stdout",
     "output_type": "stream",
     "text": [
      "Fold: [1/5]: confusion matrix:\n",
      " [[15  0]\n",
      " [ 0 11]]\n",
      "Classification Report               precision    recall  f1-score   support\n",
      "\n",
      "           0       1.00      1.00      1.00        15\n",
      "           1       1.00      1.00      1.00        11\n",
      "\n",
      "    accuracy                           1.00        26\n",
      "   macro avg       1.00      1.00      1.00        26\n",
      "weighted avg       1.00      1.00      1.00        26\n",
      "\n",
      "Fold: [2/5]: confusion matrix:\n",
      " [[11  0]\n",
      " [ 0 14]]\n",
      "Classification Report               precision    recall  f1-score   support\n",
      "\n",
      "           0       1.00      1.00      1.00        11\n",
      "           1       1.00      1.00      1.00        14\n",
      "\n",
      "    accuracy                           1.00        25\n",
      "   macro avg       1.00      1.00      1.00        25\n",
      "weighted avg       1.00      1.00      1.00        25\n",
      "\n",
      "Fold: [3/5]: confusion matrix:\n",
      " [[ 9  0]\n",
      " [ 0 16]]\n",
      "Classification Report               precision    recall  f1-score   support\n",
      "\n",
      "           0       1.00      1.00      1.00         9\n",
      "           1       1.00      1.00      1.00        16\n",
      "\n",
      "    accuracy                           1.00        25\n",
      "   macro avg       1.00      1.00      1.00        25\n",
      "weighted avg       1.00      1.00      1.00        25\n",
      "\n",
      "Fold: [4/5]: confusion matrix:\n",
      " [[11  0]\n",
      " [ 0 14]]\n",
      "Classification Report               precision    recall  f1-score   support\n",
      "\n",
      "           0       1.00      1.00      1.00        11\n",
      "           1       1.00      1.00      1.00        14\n",
      "\n",
      "    accuracy                           1.00        25\n",
      "   macro avg       1.00      1.00      1.00        25\n",
      "weighted avg       1.00      1.00      1.00        25\n",
      "\n",
      "Fold: [5/5]: confusion matrix:\n",
      " [[11  0]\n",
      " [ 0 14]]\n",
      "Classification Report               precision    recall  f1-score   support\n",
      "\n",
      "           0       1.00      1.00      1.00        11\n",
      "           1       1.00      1.00      1.00        14\n",
      "\n",
      "    accuracy                           1.00        25\n",
      "   macro avg       1.00      1.00      1.00        25\n",
      "weighted avg       1.00      1.00      1.00        25\n",
      "\n"
     ]
    }
   ],
   "source": [
    "# Random Forest\n",
    "from sklearn.ensemble import RandomForestClassifier\n",
    "strategy = KFold(n_splits=CONFIG.folds, random_state=CONFIG.seed, shuffle=True)\n",
    "folds = strategy.split(data,y)\n",
    "for fold_idx, (train_indexes,test_indexes) in enumerate(folds):\n",
    "    print(f\"Fold: [{fold_idx+1}/{CONFIG.folds}]\", end=\": \")\n",
    "    train_data, train_labels = data.iloc[train_indexes], y.iloc[train_indexes]\n",
    "    test_data, test_labels = data.iloc[test_indexes], y.iloc[test_indexes]\n",
    "    rand = RandomForestClassifier(max_depth= 5, n_estimators=100 , min_samples_leaf=3).fit(train_data, train_labels)\n",
    "    fold_model = rand.fit(train_data, train_labels)\n",
    "    predictions = fold_model.predict(test_data)\n",
    "    cm = confusion_matrix(test_labels,predictions)\n",
    "    print('confusion matrix:\\n',cm)\n",
    "    print(\"Classification Report\",classification_report(test_labels,predictions))\n",
    "    "
   ]
  },
  {
   "cell_type": "raw",
   "id": "f3e37793",
   "metadata": {},
   "source": [
    "Advantages of Navie Bayes\n",
    "1.not sensitive to missing data \n",
    "2.peform well on small data \n",
    "3.fast learning \n",
    "\n",
    "Disadvantages of Random Forest \n",
    "1. need priori probability \n",
    "2. sample independent hypothesis, perform not good if sample is dependent"
   ]
  },
  {
   "cell_type": "code",
   "execution_count": 46,
   "id": "722e25f9",
   "metadata": {},
   "outputs": [
    {
     "name": "stdout",
     "output_type": "stream",
     "text": [
      "Fold: [1/5]: confusion matrix:\n",
      " [[15  0]\n",
      " [ 0 11]]\n",
      "Classification Report               precision    recall  f1-score   support\n",
      "\n",
      "           0       1.00      1.00      1.00        15\n",
      "           1       1.00      1.00      1.00        11\n",
      "\n",
      "    accuracy                           1.00        26\n",
      "   macro avg       1.00      1.00      1.00        26\n",
      "weighted avg       1.00      1.00      1.00        26\n",
      "\n",
      "Fold: [2/5]: confusion matrix:\n",
      " [[11  0]\n",
      " [ 0 14]]\n",
      "Classification Report               precision    recall  f1-score   support\n",
      "\n",
      "           0       1.00      1.00      1.00        11\n",
      "           1       1.00      1.00      1.00        14\n",
      "\n",
      "    accuracy                           1.00        25\n",
      "   macro avg       1.00      1.00      1.00        25\n",
      "weighted avg       1.00      1.00      1.00        25\n",
      "\n",
      "Fold: [3/5]: confusion matrix:\n",
      " [[ 9  0]\n",
      " [ 0 16]]\n",
      "Classification Report               precision    recall  f1-score   support\n",
      "\n",
      "           0       1.00      1.00      1.00         9\n",
      "           1       1.00      1.00      1.00        16\n",
      "\n",
      "    accuracy                           1.00        25\n",
      "   macro avg       1.00      1.00      1.00        25\n",
      "weighted avg       1.00      1.00      1.00        25\n",
      "\n",
      "Fold: [4/5]: confusion matrix:\n",
      " [[11  0]\n",
      " [ 0 14]]\n",
      "Classification Report               precision    recall  f1-score   support\n",
      "\n",
      "           0       1.00      1.00      1.00        11\n",
      "           1       1.00      1.00      1.00        14\n",
      "\n",
      "    accuracy                           1.00        25\n",
      "   macro avg       1.00      1.00      1.00        25\n",
      "weighted avg       1.00      1.00      1.00        25\n",
      "\n",
      "Fold: [5/5]: confusion matrix:\n",
      " [[11  0]\n",
      " [ 0 14]]\n",
      "Classification Report               precision    recall  f1-score   support\n",
      "\n",
      "           0       1.00      1.00      1.00        11\n",
      "           1       1.00      1.00      1.00        14\n",
      "\n",
      "    accuracy                           1.00        25\n",
      "   macro avg       1.00      1.00      1.00        25\n",
      "weighted avg       1.00      1.00      1.00        25\n",
      "\n"
     ]
    }
   ],
   "source": [
    "# Naive Bayes\n",
    "from sklearn.naive_bayes import GaussianNB\n",
    "strategy = KFold(n_splits=CONFIG.folds, random_state=CONFIG.seed, shuffle=True)\n",
    "folds = strategy.split(data,y)\n",
    "for fold_idx, (train_indexes,test_indexes) in enumerate(folds):\n",
    "    print(f\"Fold: [{fold_idx+1}/{CONFIG.folds}]\", end=\": \")\n",
    "    train_data, train_labels = data.iloc[train_indexes], y.iloc[train_indexes]\n",
    "    test_data, test_labels = data.iloc[test_indexes], y.iloc[test_indexes]\n",
    "    nb = GaussianNB()\n",
    "    fold_model = nb.fit(train_data, train_labels)\n",
    "    predictions = fold_model.predict(test_data)\n",
    "    cm = confusion_matrix(test_labels,predictions)\n",
    "    print('confusion matrix:\\n',cm)\n",
    "    print(\"Classification Report\",classification_report(test_labels,predictions))"
   ]
  },
  {
   "cell_type": "raw",
   "id": "8faff600",
   "metadata": {},
   "source": [
    "Advantages of LogisticRegression\n",
    "1.train fast,little resource storage   \n",
    "2.multicollineary is not a big issue \n",
    "\n",
    "Disadvantages of LogisticRegression \n",
    "1. not perform well in trmendious features\n",
    "2. likely to underfit\n"
   ]
  },
  {
   "cell_type": "code",
   "execution_count": 47,
   "id": "9605ab47",
   "metadata": {},
   "outputs": [
    {
     "name": "stdout",
     "output_type": "stream",
     "text": [
      "Fold: [1/5]: confusion matrix:\n",
      " [[15  0]\n",
      " [ 0 11]]\n",
      "Classification Report               precision    recall  f1-score   support\n",
      "\n",
      "           0       1.00      1.00      1.00        15\n",
      "           1       1.00      1.00      1.00        11\n",
      "\n",
      "    accuracy                           1.00        26\n",
      "   macro avg       1.00      1.00      1.00        26\n",
      "weighted avg       1.00      1.00      1.00        26\n",
      "\n",
      "Fold: [2/5]: confusion matrix:\n",
      " [[11  0]\n",
      " [ 0 14]]\n",
      "Classification Report               precision    recall  f1-score   support\n",
      "\n",
      "           0       1.00      1.00      1.00        11\n",
      "           1       1.00      1.00      1.00        14\n",
      "\n",
      "    accuracy                           1.00        25\n",
      "   macro avg       1.00      1.00      1.00        25\n",
      "weighted avg       1.00      1.00      1.00        25\n",
      "\n",
      "Fold: [3/5]: confusion matrix:\n",
      " [[ 9  0]\n",
      " [ 0 16]]\n",
      "Classification Report               precision    recall  f1-score   support\n",
      "\n",
      "           0       1.00      1.00      1.00         9\n",
      "           1       1.00      1.00      1.00        16\n",
      "\n",
      "    accuracy                           1.00        25\n",
      "   macro avg       1.00      1.00      1.00        25\n",
      "weighted avg       1.00      1.00      1.00        25\n",
      "\n",
      "Fold: [4/5]: confusion matrix:\n",
      " [[11  0]\n",
      " [ 0 14]]\n",
      "Classification Report               precision    recall  f1-score   support\n",
      "\n",
      "           0       1.00      1.00      1.00        11\n",
      "           1       1.00      1.00      1.00        14\n",
      "\n",
      "    accuracy                           1.00        25\n",
      "   macro avg       1.00      1.00      1.00        25\n",
      "weighted avg       1.00      1.00      1.00        25\n",
      "\n",
      "Fold: [5/5]: confusion matrix:\n",
      " [[11  0]\n",
      " [ 0 14]]\n",
      "Classification Report               precision    recall  f1-score   support\n",
      "\n",
      "           0       1.00      1.00      1.00        11\n",
      "           1       1.00      1.00      1.00        14\n",
      "\n",
      "    accuracy                           1.00        25\n",
      "   macro avg       1.00      1.00      1.00        25\n",
      "weighted avg       1.00      1.00      1.00        25\n",
      "\n"
     ]
    }
   ],
   "source": [
    "# LogisticRegression\n",
    "from sklearn.linear_model import LogisticRegression\n",
    "strategy = KFold(n_splits=CONFIG.folds, random_state=CONFIG.seed, shuffle=True)\n",
    "folds = strategy.split(data,y)\n",
    "for fold_idx, (train_indexes,test_indexes) in enumerate(folds):\n",
    "    print(f\"Fold: [{fold_idx+1}/{CONFIG.folds}]\", end=\": \")\n",
    "    train_data, train_labels = data.iloc[train_indexes], y.iloc[train_indexes]\n",
    "    test_data, test_labels = data.iloc[test_indexes], y.iloc[test_indexes]\n",
    "    lg = LogisticRegression()\n",
    "    fold_model = lg.fit(train_data, train_labels)\n",
    "    predictions = fold_model.predict(test_data)\n",
    "    cm = confusion_matrix(test_labels,predictions)\n",
    "    print('confusion matrix:\\n',cm)\n",
    "    print(\"Classification Report\",classification_report(test_labels,predictions))"
   ]
  },
  {
   "cell_type": "markdown",
   "id": "9b236da8",
   "metadata": {},
   "source": [
    "### I apply Decision Trees, SVM(kenel= 'linear'),Random Forest,Naive Bayes and LogisticRegression machine learning algorithmn to do classification with cross validation to avoid overfitting. As the data is small, there is no enough space to demonstrate the prior of them. "
   ]
  },
  {
   "cell_type": "code",
   "execution_count": null,
   "id": "7239691b",
   "metadata": {},
   "outputs": [],
   "source": []
  }
 ],
 "metadata": {
  "kernelspec": {
   "display_name": "Python 3 (ipykernel)",
   "language": "python",
   "name": "python3"
  },
  "language_info": {
   "codemirror_mode": {
    "name": "ipython",
    "version": 3
   },
   "file_extension": ".py",
   "mimetype": "text/x-python",
   "name": "python",
   "nbconvert_exporter": "python",
   "pygments_lexer": "ipython3",
   "version": "3.9.12"
  }
 },
 "nbformat": 4,
 "nbformat_minor": 5
}
